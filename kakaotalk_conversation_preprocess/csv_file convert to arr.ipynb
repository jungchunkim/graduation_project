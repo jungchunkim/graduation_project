{
 "cells": [
  {
   "cell_type": "code",
   "execution_count": 17,
   "metadata": {},
   "outputs": [
    {
     "name": "stdout",
     "output_type": "stream",
     "text": [
      "['아하아하! 정천 고마워!!!', '땡큐땡큐!', '아니아니 나 네프 뺐어!', '땡큐땡큐!', '이모티콘', '오 좋지좋지!', '정천 내가 밥 살게!', '내일 저녁 먹을까???', '오키오키!!', '정천 저녁 뭐먹고 싶어??', '그럼 내가 맛집 한번 찾아볼게!', '정천 곱창 아니면 삼겹살 어때???', '여기 보쌈맛집도 있어', '보쌈 오케이~~', '정천 지금 건대??', '나 회의 오늘 일찍 끝나서', '오오 그럼 나도 나갈게!', '여기 보쌈 맛집!!', '아하', '오키오키!', '응응!', '정천 책 고마워!!', '정천 조심히 가~~~!', '나두 잼썼으!!', '정천 취준도 화이팅!!!', '정천 인스타 올려도 돼??', '태그해서 올렸어~~~', '이모티콘', '맥북으로??', '웅응', '그', '단톡방내용?', '사진', '한번 찾아볼게!!', '사진', '대화내용 저장 해서 보내줄까??']\n"
     ]
    }
   ],
   "source": [
    "import csv\n",
    "\n",
    "# 측정할 사용자 이름 적으면 된다.(사용자로부터 받아와야한다.)\n",
    "user_name=\"이호석\"\n",
    "\n",
    "#대화 리스트 들어갈 곳\n",
    "all_conversation_arr=[]\n",
    "\n",
    "# 이상한 문자 있는 문장  지워버림 - 훨씬 깔끔하게 나옴\n",
    "remove_letters=\"0123456789ㅂㅈㄷㄱㅅㅕㅑㅐㅔ[ㅁㄴㅇㅃㅉㄸㄲㅆㄹㅎ,_ㅗㅓㅏ※ㅣ;]'ㅋㅌㅊ)=(ㅠㅜㅍㅡabcdefghijklmnopqrstuvwxyz/QWERTYUIOPASDFGHJKLZXCVBNM#%-\\\":\"\n",
    "\n",
    "f=open('KakaoTalk_Chat_김정천_2021-09-18-23-42-21.csv','r',encoding='UTF8')\n",
    "rdr = csv.reader(f)\n",
    "\n",
    "for line in rdr:\n",
    "    # 사용자 이름\n",
    "    if line[1] == user_name :\n",
    "        num=1\n",
    "        for x in line[2]:\n",
    "            if x in remove_letters:\n",
    "                num=2\n",
    "        if num==1:\n",
    "            all_conversation_arr.append(line[2])\n",
    "        \n",
    "print(all_conversation_arr)\n",
    "        \n",
    "f.close()"
   ]
  },
  {
   "cell_type": "code",
   "execution_count": null,
   "metadata": {},
   "outputs": [],
   "source": []
  }
 ],
 "metadata": {
  "kernelspec": {
   "display_name": "Python 3",
   "language": "python",
   "name": "python3"
  },
  "language_info": {
   "codemirror_mode": {
    "name": "ipython",
    "version": 3
   },
   "file_extension": ".py",
   "mimetype": "text/x-python",
   "name": "python",
   "nbconvert_exporter": "python",
   "pygments_lexer": "ipython3",
   "version": "3.7.5"
  }
 },
 "nbformat": 4,
 "nbformat_minor": 4
}
