{
 "cells": [
  {
   "cell_type": "markdown",
   "metadata": {},
   "source": [
    "# 카카오톡 사용자 txt 파일을 받아와서 전처리하는 과정\n",
    "## (처음에 했던거 - 특수문자 외 많은 대화 있음..)"
   ]
  },
  {
   "cell_type": "code",
   "execution_count": 28,
   "metadata": {},
   "outputs": [],
   "source": [
    "import re\n",
    "\n",
    "user_name=\"김정천\" # 사용자 이름 받아와야한다.\n",
    "\n",
    "all_conversation_arr=[]\n",
    "\n",
    "\n",
    "remove_characters=\"년월일-월화수목금토요 \" # 요일 없애야하는것\n",
    "cur_time=\"\"\n",
    "conversation=\"\"\n",
    "\n",
    "#여기다가 카카오 데이터 셋(txt) 집어 넣으면 됨\n",
    "f = open(\"KakaoTalk_20210426_2042_40_926_김준홍.txt\", 'r',encoding='UTF8')\n",
    "while True:\n",
    "    line = f.readline()\n",
    "    if not line:  #마지막에 도달했을 때 반복문 빠져나옴\n",
    "        break\n",
    "    #요일이 시작되는 경우\n",
    "    if line[:5]==\"-----\": \n",
    "        line=''.join(x for x in line if x not in remove_characters)\n",
    "        cur_time=line #  년, 월, 일 형태로 받는다.(ex 2020120)\n",
    "        while True:\n",
    "            line = f.readline()\n",
    "            # line 이 빈 값일 때 or 끝났을 때\n",
    "            if line[:5]==\"-----\" or not line:\n",
    "                break\n",
    "            #사용자의 이름인 것만 받아온다. (한줄이 50정도max -> 한줄만 받자)\n",
    "            if line[1:len(user_name)+1]==user_name:\n",
    "                conversation=line[16:]\n",
    "                all_conversation_arr.append([user_name,cur_time,conversation])\n",
    "                \n",
    "\n",
    "for i in range(len(all_conversation_arr)):\n",
    "    all_conversation_arr[i][1]=re.sub(\"\\n\",\"\",all_conversation_arr[i][1])\n",
    "    all_conversation_arr[i][2]=re.sub(\"\\n\",\"\",all_conversation_arr[i][2])\n",
    "\n",
    "remove_letters=\"0123456789ㅂㅈㄷㄱㅅㅕㅑㅐㅔ[ㅁㄴㅇㅃㅉㄸㄲㅆㄹㅎ,_ㅗㅓㅏ※ㅣ;]'ㅋㅌㅊ)=(ㅠㅜㅍㅡabcdefghijklmnopqrstuvwxyz/QWERTYUIOPASDFGHJKLZXCVBNM#%-\\\":\"\n",
    "for i in reversed(range(len(all_conversation_arr))):\n",
    "    all_conversation_arr[i][2]=''.join(x for x in all_conversation_arr[i][2] if x not in remove_letters)\n",
    "\n",
    "# 길이가 2 이하인 문자열 제거\n",
    "for i in reversed(range(len(all_conversation_arr))):\n",
    "    if len(all_conversation_arr[i][2])<=10 or len(all_conversation_arr[i][2]) > 56:\n",
    "        del all_conversation_arr[i]\n",
    "    \n",
    "\n",
    "    \n",
    "f.close()"
   ]
  },
  {
   "cell_type": "markdown",
   "metadata": {},
   "source": [
    "# # 카카오톡 사용자 txt 파일을 받아와서 전처리하는 과정\n",
    "## (2021-05-03 새로 수정한 것 - 특수문자, 이상한 문자 있는 경우 지워버림)\n",
    "# 주농아 이거 사용하면됨~"
   ]
  },
  {
   "cell_type": "code",
   "execution_count": 47,
   "metadata": {},
   "outputs": [],
   "source": [
    "import re\n",
    "\n",
    "# 측정할 사용자 이름 적으면 된다.(사용자로부터 받아와야한다.)\n",
    "user_name=\"김정천\"\n",
    "\n",
    "#대화 리스트 들어갈 곳\n",
    "all_conversation_arr=[]\n",
    "\n",
    "# 요일 없애야하는것\n",
    "remove_characters=\"년월일-월화수목금토요 \" \n",
    "cur_time=\"\"\n",
    "conversation=\"\"\n",
    "\n",
    "#여기다가 원하는 카카오 데이터 셋(txt) 집어 넣으면 됨 ( 여기서는 KakaoTalk_20210426_2042_40_926_김준홍.txt 를 넣었음)\n",
    "f = open(\"KakaoTalk_20210426_2042_40_926_김준홍.txt\", 'r',encoding='UTF8')\n",
    "while True:\n",
    "    line = f.readline()\n",
    "    if not line:  #마지막에 도달했을 때 반복문 빠져나옴\n",
    "        break\n",
    "    #요일이 시작되는 경우\n",
    "    if line[:5]==\"-----\": \n",
    "        line=''.join(x for x in line if x not in remove_characters)\n",
    "        cur_time=line #  년, 월, 일 형태로 받는다.(ex 2020120)\n",
    "        while True:\n",
    "            line = f.readline()\n",
    "            # line 이 빈 값일 때 or 끝났을 때\n",
    "            if line[:5]==\"-----\" or not line:\n",
    "                break\n",
    "            #사용자의 이름인 것만 받아온다. (한줄이 50정도max -> 한줄만 받자)\n",
    "            if line[1:len(user_name)+1]==user_name:\n",
    "                conversation=line[16:]\n",
    "                all_conversation_arr.append([user_name,cur_time,conversation])\n",
    "                \n",
    "\n",
    "for i in range(len(all_conversation_arr)):\n",
    "    all_conversation_arr[i][1]=re.sub(\"\\n\",\"\",all_conversation_arr[i][1])\n",
    "    all_conversation_arr[i][2]=re.sub(\"\\n\",\"\",all_conversation_arr[i][2])\n",
    "\n",
    "# 이상한 문자 있는 문장  지워버림 - 훨씬 깔끔하게 나옴\n",
    "remove_letters=\"0123456789ㅂㅈㄷㄱㅅㅕㅑㅐㅔ[ㅁㄴㅇㅃㅉㄸㄲㅆㄹㅎ,_ㅗㅓㅏ※ㅣ;]'ㅋㅌㅊ)=(ㅠㅜㅍㅡabcdefghijklmnopqrstuvwxyz/QWERTYUIOPASDFGHJKLZXCVBNM#%-\\\":\"\n",
    "for i in reversed(range(len(all_conversation_arr))):\n",
    "    for x in all_conversation_arr[i][2]:\n",
    "        if x in remove_letters:\n",
    "            del all_conversation_arr[i]\n",
    "            break\n",
    "\n",
    "# 길이가 2 이하인 문자열 제거\n",
    "for i in reversed(range(len(all_conversation_arr))):\n",
    "    if len(all_conversation_arr[i][2])<=10 or len(all_conversation_arr[i][2]) > 56:\n",
    "        del all_conversation_arr[i]\n",
    "        \n",
    "all_conversation_arr.reverse()\n",
    "# 최근 대화 50개 리스트\n",
    "num_50_conversation=all_conversation_arr[:50]\n",
    "# 최근 대화 100개 리스트\n",
    "num_100_conversation=all_conversation_arr[:100]\n",
    "    \n",
    "f.close()"
   ]
  },
  {
   "cell_type": "markdown",
   "metadata": {},
   "source": [
    "# 배열 안에 표현해야 할 것\n",
    "\n",
    "이름, 요일 , 대화 내용 \n",
    "\n",
    "# 카카오톡 내용에서 빼야할 것\n",
    "\n",
    "영어로 된 문장 , 상대방의 대화 내용 "
   ]
  },
  {
   "cell_type": "code",
   "execution_count": 91,
   "metadata": {},
   "outputs": [
    {
     "name": "stdout",
     "output_type": "stream",
     "text": [
      "--------------- 2020년 8월 13일 목요일 ---------------\n",
      "\n",
      "[김정천] [오후 8:07] 지연이 생일가냐  아는 얼굴도 없어서 너네 가면 가려하는디..\n",
      "\n",
      "[김준홍] [오후 8:09] ㅇㅇ갈듯\n",
      "\n",
      "[김준홍] [오후 8:09] 나도 저번에 갔을때 다 모르는사란들 ㅋㅋㅋ\n",
      "\n",
      "[김정천] [오후 8:09] 오키\n",
      "\n",
      "[김정천] [오후 8:10] 잘 살고있냐\n",
      "\n",
      "[김준홍] [오후 8:22] ㅋㅋㅋㅋ뭐 글치\n",
      "\n",
      "[김준홍] [오후 8:22] 시간존나빠르네\n",
      "\n",
      "[김정천] [오후 8:24] 그러게 말이다..\n",
      "\n",
      "[김정천] [오후 8:24] 다시 시험기간 할 생각하니까 빡시네\n",
      "\n",
      "--------------- 2020년 8월 14일 금요일 ---------------\n",
      "\n",
      "[김준홍] [오전 2:16] 토나와 ㅅㅂ]\n",
      "\n",
      "--------------- 2020년 9월 3일 목요일 ---------------\n",
      "\n",
      "[김정천] [오후 2:11] 수업 들음?\n",
      "\n",
      "[김정천] [오후 2:11] 나 똥좀싸고옴\n",
      "\n",
      "[김정천] [오후 2:11] 뭔 일 있으면 말 가능?\n",
      "\n",
      "[김준홍] [오후 2:13] 녹화중인디\n",
      "\n",
      "[김준홍] [오후 2:13] ㅋㅋㅋㅋㅋ\n",
      "\n",
      "[김정천] [오후 2:14] ㅋㅋㅋ ㅇㅋ\n",
      "\n",
      "[김정천] [오후 2:14] 일단 감\n",
      "\n",
      "[김정천] [오후 2:14] 똥싸러\n",
      "\n",
      "[김준홍] [오후 2:28] ㅋㅋㅋㅋ\n",
      "\n",
      "[김준홍] [오후 2:28] 수업들을만함?\n",
      "\n",
      "[김준홍] [오후 2:28] 너무졸려서 녹화때리고\n",
      "\n",
      "[김준홍] [오후 2:28] 한시간잤는디\n",
      "\n",
      "[김정천] [오후 2:29] 나 그냥 폰 만지고있어\n",
      "\n",
      "[김정천] [오후 2:29] 이름 부를까봐\n",
      "\n",
      "[김정천] [오후 2:29] 소리는 듣는중\n",
      "\n",
      "[김정천] [오후 2:29] 정균락 교수님급인데 목소리\n",
      "\n",
      "[김정천] [오후 2:29] 개졸림\n",
      "\n",
      "[김준홍] [오후 2:30] ㅇㅎ\n",
      "\n",
      "[김준홍] [오후 2:30] 이름도불러?\n",
      "\n",
      "[김준홍] [오후 2:30] ㅅㅂ\n",
      "\n",
      "[김준홍] [오후 2:31] 좆될뻔했네\n",
      "\n",
      "[김정천] [오후 2:32] ㅇㅇ\n",
      "\n",
      "[김정천] [오후 2:32] 질문있냐고\n",
      "\n",
      "[김정천] [오후 2:32] 이름부름\n",
      "\n",
      "[김준홍] [오후 2:32] ㅋㅋㅋㅋㅋㅋㅋㅋ\n",
      "\n",
      "[김준홍] [오후 2:32] 출석만 두번하는줄\n",
      "\n",
      "[김정천] [오후 2:32] 출석도\n",
      "\n",
      "[김정천] [오후 2:32] 두 번했어\n",
      "\n",
      "[김준홍] [오후 2:32] 긍까\n",
      "\n",
      "[김준홍] [오후 2:32] ㅋㅋㅋㅋ\n",
      "\n",
      "[김정천] [오후 2:32] 아아\n",
      "\n",
      "[김정천] [오후 2:32] ㅋㅋㅋㅋㅋ\n",
      "\n",
      "[김준홍] [오후 2:32] 저거모르고 넘어갈뻔\n",
      "\n",
      "[김정천] [오후 2:33] 그 고학번만 부르더라\n",
      "\n",
      "[김준홍] [오후 2:37] ㅋㅋㅋ출석부 위에서부터 하는듯\n",
      "\n",
      "[김정천] [오후 2:52] 후\n",
      "\n",
      "[김정천] [오후 2:53] 자야지\n",
      "\n",
      "[김준홍] [오후 2:53] 밥먹어야지\n",
      "\n",
      "[김준홍] [오후 2:53] 잠다깼네\n",
      "\n",
      "[김정천] [오후 2:53] 운체 어렵다\n",
      "\n",
      "[김준홍] [오후 2:54] 그러냐?\n",
      "\n",
      "[김준홍] [오후 2:54] 이따 밤에 들어야징\n",
      "\n"
     ]
    }
   ],
   "source": [
    "f = open((\"KakaoTalk_20210426_2042_40_926_김준홍.txt\"), 'r',encoding='UTF8')\n",
    "while True:\n",
    "    line = f.readline()\n",
    "    if not line: break #마지막에 도달했을 때 반복문 빠져나옴 \n",
    "    print(line)\n",
    "f.close()"
   ]
  },
  {
   "cell_type": "code",
   "execution_count": 6,
   "metadata": {},
   "outputs": [],
   "source": [
    "a=[1,\"name\",3]"
   ]
  },
  {
   "cell_type": "code",
   "execution_count": 7,
   "metadata": {},
   "outputs": [
    {
     "data": {
      "text/plain": [
       "[1, 'name', 3]"
      ]
     },
     "execution_count": 7,
     "metadata": {},
     "output_type": "execute_result"
    }
   ],
   "source": [
    "a"
   ]
  },
  {
   "cell_type": "code",
   "execution_count": 24,
   "metadata": {},
   "outputs": [
    {
     "name": "stdout",
     "output_type": "stream",
     "text": [
      "True\n"
     ]
    }
   ],
   "source": [
    "str1=\"김정천\"\n",
    "\n",
    "str2=\"김정천\"\n",
    "\n",
    "print(str1==str2[0:3])"
   ]
  },
  {
   "cell_type": "markdown",
   "metadata": {},
   "source": [
    "# 나올 수 있는 요일 경우"
   ]
  },
  {
   "cell_type": "code",
   "execution_count": 62,
   "metadata": {},
   "outputs": [
    {
     "data": {
      "text/plain": [
       "'2020813'"
      ]
     },
     "execution_count": 62,
     "metadata": {},
     "output_type": "execute_result"
    }
   ],
   "source": [
    "aine=\"--------------- 2021년 2월 6일 토요일 ---------------\"\n",
    "line=\"--------------- 2020년 8월 13일 목요일 ---------------\"\n",
    "mine=\"--------------- 2020년 10월 6일 화요일 ---------------\"\n",
    "zine=\"--------------- 2021년 3월 23일 화요일 ---------------\"\n",
    "jine=\"--------------- 2020년 11월 30일 월요일 ---------------\"\n",
    "\n",
    "remove_characters=\"년월일-월화수목금토요 \"\n",
    "line=''.join(x for x in line if x not in remove_characters)\n",
    "cur_time=line\n",
    "cur_time"
   ]
  },
  {
   "cell_type": "code",
   "execution_count": 131,
   "metadata": {},
   "outputs": [],
   "source": [
    "arr=['김정천',\n",
    "  '2021316',\n",
    "  '기분을 좋게 끌어올리는 데는 에너지가 듭니다. 우리가 조용히 있을 수 있거나, 에너지를 아끼거나, 자기 연민에 빠지거나, 사랑하는 사람에게 연민이나 동정심을 갖게 되는 상황이 되었을 때는, 차라리 그냥 우울한 분위기로 지내는 편이 더 쉽습니다. 그 순간 우리는 전쟁처럼 느껴지는 반복되는 일상의 문제로 돌아가기 전에 상처를 달래고, 치유하고, 구원받는 시간을 갖게 됩니다.']"
   ]
  },
  {
   "cell_type": "code",
   "execution_count": 132,
   "metadata": {},
   "outputs": [
    {
     "data": {
      "text/plain": [
       "208"
      ]
     },
     "execution_count": 132,
     "metadata": {},
     "output_type": "execute_result"
    }
   ],
   "source": [
    "len(arr[2])"
   ]
  },
  {
   "cell_type": "markdown",
   "metadata": {},
   "source": [
    "# 지워야할 것 \n",
    "\n",
    "영어로 된 문장, ㄱㄴㄷㄹㅁㅂㅅㅇㅈㅊㅋㅌㅍㅎ가 있는 문장, 특수문자 (? ! 빼고 나머지 특수문자)가 있는 문장"
   ]
  },
  {
   "cell_type": "code",
   "execution_count": null,
   "metadata": {},
   "outputs": [],
   "source": []
  }
 ],
 "metadata": {
  "kernelspec": {
   "display_name": "Python 3",
   "language": "python",
   "name": "python3"
  },
  "language_info": {
   "codemirror_mode": {
    "name": "ipython",
    "version": 3
   },
   "file_extension": ".py",
   "mimetype": "text/x-python",
   "name": "python",
   "nbconvert_exporter": "python",
   "pygments_lexer": "ipython3",
   "version": "3.7.5"
  }
 },
 "nbformat": 4,
 "nbformat_minor": 4
}
